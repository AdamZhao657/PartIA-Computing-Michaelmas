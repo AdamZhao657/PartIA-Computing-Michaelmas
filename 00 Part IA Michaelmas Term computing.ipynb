{
 "cells": [
  {
   "cell_type": "markdown",
   "metadata": {},
   "source": [
    "# Part IA Michaelmas Term computing\n",
    "\n",
    "This is the introductory notebook for Michaelmas Term computing.\n",
    "\n",
    "> The learning material for this course is online and dynamic - changes will be made as the course progresses to help you learn to compute. If something is unclear,\n",
    "if you'd like to know more about a topic, if you need more guidance with an exercise or if you want more challenging problems to work on, send me a message (<gnw20@cam.ac.uk>)."
   ]
  },
  {
   "cell_type": "markdown",
   "metadata": {},
   "source": [
    "# Introduction lecture slides\n",
    "\n",
    "Slides from the introduction lecture can be found [here](http://www.eng.cam.ac.uk/~gnw20/teaching/2017/171011-computing/)."
   ]
  },
  {
   "cell_type": "markdown",
   "metadata": {},
   "source": [
    "# Course structure\n",
    "\n",
    "Computing is best learned by doing, and seeking help when you need it. To help you build and develop computing skills, \n",
    "this course involves 12 self-study, interactive Jupyter notebook 'activities', with exercises at the end of each\n",
    "activity. The activity notebooks cover:\n",
    "\n",
    "1. [Variables, assignment and operator precedence](01 Variables, assignment and operator precedence.ipynb)\n",
    "1. [Control statements](02 Control statements.ipynb)\n",
    "1. [Types, type conversions and floating point arithmetic](03 Types, type conversions and floating point arithmetic.ipynb)\n",
    "1. [Functions](04 Functions.ipynb)\n",
    "1. [Library functions](05 Library functions.ipynb)\n",
    "1. [Data structures](06 Data structures.ipynb)\n",
    "1. [Numerical computation](07 Numerical computation.ipynb)\n",
    "1. [Plotting](08 Plotting.ipynb)\n",
    "1. [Error handling and testing](09 Error handling and testing.ipynb)\n",
    "1. [Algorithms](10 Algorithms.ipynb)\n",
    "1. [Complexity](11 Complexity.ipynb)\n",
    "1. [Object-oriented design](12 Object-oriented design.ipynb)\n",
    "\n",
    "The notebooks are designed to be completed in order.\n",
    "\n",
    "- Read through a notebook, and change parts of the programs if you want to experiment with what \n",
    "  happens - this will help your understanding. \n",
    "- Complete the exercises for the notebook before moving onto the next activity.\n",
    "\n",
    "As you move through the activities you might need to revise some of the earlier notebooks."
   ]
  },
  {
   "cell_type": "markdown",
   "metadata": {},
   "source": [
    "# Completing exercises\n",
    "\n",
    "Exercises for each notebook are in the [Exercises](Exercises/) directory.\n",
    "\n",
    "- Use Markdown cells, and where appropriate add equations using LaTeX, to describe what your program is doing.\n",
    "- For longer exercises, you may want to break your program into multiple cells, with descriptions in \n",
    "  Markdown before cells with code.\n",
    "- Most exercises include some automated testing to provide feedback on the correctness of \n",
    "  your implementations. You are not expected to understand the test syntax to start.   \n",
    "  \n",
    "You are required to present your exercise solutions at a marking session. Check the lab rota for your timetabled marking slot."
   ]
  },
  {
   "cell_type": "markdown",
   "metadata": {},
   "source": [
    "# Getting help\n",
    "\n",
    "There are two primary support mechanisms:\n",
    "\n",
    "1. The help forum at https://www.allanswered.com/community/s/cued-part-ia-computing-michaelmas-2017/.\n",
    "   \n",
    "   This should be the first place you look for help - at any time \n",
    "   of the day or night. Check first if your question has already\n",
    "   been asked and answered, and if not post a new question. Follow the forum guidelines \n",
    "   on how to ask a question.\n",
    "   \n",
    "2. Help Desk in the DPO"
   ]
  },
  {
   "cell_type": "markdown",
   "metadata": {},
   "source": [
    "# Providing help\n",
    "\n",
    "Please help out by answering questions on the AllAnswered forum. Helping each other is encouraged - if you receive help make sure that you do understand what you have done."
   ]
  },
  {
   "cell_type": "markdown",
   "metadata": {},
   "source": [
    "# Jupyter notebooks\n",
    "\n",
    "This is a Jupyter Notebook. We will be computing using Jupyter Notebooks (https://jupyter.org/) and \n",
    "the programming language Python (https://www.python.org/).\n",
    "Jupyter Notebooks  provide an interactive environment where you can mix text, equations, programming\n",
    "and visual outputs. This is new technology that is increasingly widely used, and it is all open-source. \n",
    "You will find Jupyter Notebooks useful throughout the course."
   ]
  },
  {
   "cell_type": "markdown",
   "metadata": {},
   "source": [
    "## Using notebooks\n",
    "\n",
    "See the notebook [Using notebooks](Using notebooks.ipynb)."
   ]
  },
  {
   "cell_type": "markdown",
   "metadata": {},
   "source": [
    "## Running notebooks\n",
    "\n",
    "### Azure notebook service\n",
    "\n",
    "Using the Jupyter service hosted at https://notebooks.azure.com/ is recommended. You can log in using your CRSid from  wherever you are connected to the Internet. You can use any device - all you need is a modern\n",
    "web browser.\n",
    "\n",
    "### Running locally\n",
    "\n",
    "Jupyter can be run locally. If you choose to do so, the [Anaconda](https://www.anaconda.com/download) distribution is recommended. Be sure to download the Python 3 version. Anaconda is also installed in the DPO."
   ]
  },
  {
   "cell_type": "markdown",
   "metadata": {},
   "source": [
    "## Python version\n",
    "\n",
    "We will be using exclusively Python 3. There are some subtle differences between Python 2 and Python 3. Bear this in mind if using a book or searching online. Most books still use Python 2 syntax."
   ]
  },
  {
   "cell_type": "markdown",
   "metadata": {},
   "source": [
    "# Other resources\n",
    "\n",
    "There are many online resources for learning computing, Python, and on using Jupyter notebooks.\n",
    "A search engine is the best way to find relevant material. Remember that we are using\n",
    "Python 3 and not Python 2 - you might want to add 'python 3' to any search query.\n",
    "\n",
    "A useful resource for beginners is https://www.codecademy.com/learn/python."
   ]
  }
 ],
 "metadata": {
  "kernelspec": {
   "display_name": "Python 3",
   "language": "python",
   "name": "python3"
  },
  "language_info": {
   "codemirror_mode": {
    "name": "ipython",
    "version": 3
   },
   "file_extension": ".py",
   "mimetype": "text/x-python",
   "name": "python",
   "nbconvert_exporter": "python",
   "pygments_lexer": "ipython3",
   "version": "3.5.3"
  }
 },
 "nbformat": 4,
 "nbformat_minor": 1
}
